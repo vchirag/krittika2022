{
 "cells": [
  {
   "cell_type": "markdown",
   "metadata": {},
   "source": [
    "## Problem Statement"
   ]
  },
  {
   "cell_type": "markdown",
   "metadata": {},
   "source": [
    "Krittika's Python tutorial notebooks: https://github.com/krittikaiitb/tutorials <br><br>\n",
    "A Cepheid variable is a type of star that, due to some inherent instability, pulsates radially, varying in both diameter and temperature and producing changes in brightness with a well-defined stable period and amplitude. As it turns out, the period of pulsation and the Luminosity (i.e the absolute magnitude) of the Cephied are related. <br><br>\n",
    "We'll use data of cepheids from the Small Magallenic Cloud (SMC) obtained by a survey called Optical Gravitational Lensing Experiment (OGLE).The Small Magellanic Cloud is a dwarf galaxy satellite of the Milky Way, and distances to any star in it can be assumed to be almost constant. So the magnitudes translated directly into absolute magnitudes with some offset dependent on the distance to the SMC!"
   ]
  },
  {
   "cell_type": "markdown",
   "metadata": {},
   "source": [
    "### Data Cleaning"
   ]
  },
  {
   "cell_type": "markdown",
   "metadata": {},
   "source": [
    "The data file given consists of 'ID', the identifier for the star; 'RA', the right ascension in HMS format; 'Decl', the declination in DMS format; 'I' , the I band magnitude; 'V', the V band magnitude; 'P_1', the period. <br><br>\n",
    "Some entries in the V and I band magnitude have a value of -99.990, so we do not want to use these stars for further analysis. Remove such entries. Further, convert the RA and Dec values to degrees from HMS and DMS respectively. You might find Pandas convenient for the above purposes."
   ]
  },
  {
   "cell_type": "code",
   "execution_count": 15,
   "metadata": {},
   "outputs": [],
   "source": [
    "#Code here"
   ]
  },
  {
   "cell_type": "markdown",
   "metadata": {},
   "source": [
    "Plot the RA, Dec coordinates in a sky grid using Matplotlib. (Hint: Look up Mollweide projections in Matplotlib)"
   ]
  },
  {
   "cell_type": "code",
   "execution_count": 16,
   "metadata": {},
   "outputs": [],
   "source": [
    "#Code here"
   ]
  },
  {
   "cell_type": "markdown",
   "metadata": {},
   "source": [
    "### P-L Diagrams"
   ]
  },
  {
   "cell_type": "markdown",
   "metadata": {},
   "source": [
    "Plot the Magnitude vs log(Period) for V and I bands. Observe that a linear fit can be done to obtain the period magnitude relation for each band separately. Use scipy's curve fit module to obtain the relation for both V and I band. The P-L relation is of the form <br><br>\n",
    "$m_{\\lambda} = a_{\\lambda}log(P) + I_{\\lambda}$ <br><br>\n",
    "where $m_{\\lambda}$ is the apparent magnitude, $a_{\\lambda}$ is the slope, P is period and $I_{\\lambda}$ is the intercept"
   ]
  },
  {
   "cell_type": "code",
   "execution_count": 17,
   "metadata": {},
   "outputs": [],
   "source": [
    "#Code here"
   ]
  },
  {
   "cell_type": "markdown",
   "metadata": {},
   "source": [
    "### Deviation"
   ]
  },
  {
   "cell_type": "markdown",
   "metadata": {},
   "source": [
    "From the P-L diagrams, you can observe that there are quite a few stars that deviate from the linear fit, in both bands. A naive attempt at quantifying the deviation from the P-L relation would be by splitting the region the cepheids are contained in into multiple patches and calculating the fit parameters in each patch. Assume that the change in slope value is negligible. This leaves only the intercept, implying that the new fit is a vertical offset from the global fit done earlier. <br><br>\n",
    "\n",
    "Divide the SMC region into 25 patches. You can do this by simply partitioning the RA and Dec ranges into 5 parts each. Each patch would look somewhat similar to the reference image below (not related to SMC data). Make sure that you do not include outliers while partitioning RA and Dec. Quantiles can be used to change the range containing 5% to 95% of all entries. <br><br>\n",
    "\n",
    "![Sky Grid](Sky_Grid.png)\n",
    "\n",
    "Write a function to perform a linear fit to both V and I bands in each patch and return the intercept values. We calculate the deviation as <br><br>\n",
    "\n",
    "$D_{V-I} = (GI_V - I_V) - (GI_I - I_I)$ <br><br>\n",
    "\n",
    "where GI is the Grid Intercept (intercept values in each grid) and I is the intercept (global intercept from the previous part). The bands are in given in the subscripts. You will obtain 25 values of $D_{V-I}$, one for each patch. Plot a histogram of these values."
   ]
  },
  {
   "cell_type": "code",
   "execution_count": 18,
   "metadata": {},
   "outputs": [],
   "source": [
    "#Code here"
   ]
  },
  {
   "cell_type": "markdown",
   "metadata": {},
   "source": [
    "### Wesenheit Index"
   ]
  },
  {
   "cell_type": "markdown",
   "metadata": {},
   "source": [
    "Deviations from P-L relation may occur due to a phenomena called interstellar extinction. The Wesenheit Index, defined as `W = I - 1.55(V - I)` automatically takes care of extinction. Show a plot of W vs log(P) for the given data."
   ]
  },
  {
   "cell_type": "code",
   "execution_count": 23,
   "metadata": {},
   "outputs": [],
   "source": [
    "#Code here"
   ]
  },
  {
   "cell_type": "markdown",
   "metadata": {},
   "source": [
    "### Hints and References:"
   ]
  },
  {
   "cell_type": "markdown",
   "metadata": {},
   "source": [
    "Magnitude system: [Wikipedia](https://en.wikipedia.org/wiki/Magnitude_(astronomy%29) <br>\n",
    "Pandas: [Pandas](https://pandas.pydata.org/docs/user_guide/index.html)<br>\n",
    "Interstellar Extinction: [Wikipedia](https://en.wikipedia.org/wiki/Extinction_(astronomy%29)"
   ]
  }
 ],
 "metadata": {
  "kernelspec": {
   "display_name": "Python 3",
   "language": "python",
   "name": "python3"
  },
  "language_info": {
   "codemirror_mode": {
    "name": "ipython",
    "version": 3
   },
   "file_extension": ".py",
   "mimetype": "text/x-python",
   "name": "python",
   "nbconvert_exporter": "python",
   "pygments_lexer": "ipython3",
   "version": "3.8.5"
  }
 },
 "nbformat": 4,
 "nbformat_minor": 4
}
