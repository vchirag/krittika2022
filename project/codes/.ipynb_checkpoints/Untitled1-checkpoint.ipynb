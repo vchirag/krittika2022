{
 "cells": [
  {
   "cell_type": "code",
   "execution_count": 1,
   "id": "c547482e",
   "metadata": {},
   "outputs": [],
   "source": [
    "import math\n",
    "import numpy as np\n",
    "from scipy import stats\n",
    "\n",
    "import matplotlib.pyplot as plt\n",
    "from matplotlib.backends.backend_pdf import PdfPages\n",
    "\n",
    "from astropy.io import fits\n",
    "import astropy.units as u\n",
    "\n",
    "import glob\n",
    "import os\n",
    "import time\n",
    "import re"
   ]
  },
  {
   "cell_type": "code",
   "execution_count": 2,
   "id": "166b4c0f",
   "metadata": {},
   "outputs": [
    {
     "name": "stdout",
     "output_type": "stream",
     "text": [
      "The history saving thread hit an unexpected error (OperationalError('no such table: history')).History will not be written to the database.\n"
     ]
    }
   ],
   "source": [
    "# Initialising the names of the pdf(s)\n",
    "pp_noshift = PdfPages(\"before_shifting.pdf\")\n",
    "pp_shift = PdfPages(\"after_shifting.pdf\")"
   ]
  },
  {
   "cell_type": "code",
   "execution_count": 3,
   "id": "259c57a4",
   "metadata": {},
   "outputs": [],
   "source": [
    "# Appending filenames in a single list\n",
    "directory = \"/home/chirag2000/Documents/projects/iitb_krittika_2022/project_solar_flares/data/xsm/XSM Extracted Light Curve\"\n",
    "\n",
    "files = []\n",
    "\n",
    "for entry in os.scandir(directory):\n",
    "    if entry.is_file() and entry.name.endswith(\".lc\"):\n",
    "        files.append(entry.path)\n",
    "\n",
    "files.sort()\n",
    "\n",
    "# Storing the number of files\n",
    "no_of_files = len(files)\n"
   ]
  },
  {
   "cell_type": "code",
   "execution_count": 4,
   "id": "4647a038",
   "metadata": {},
   "outputs": [
    {
     "name": "stdout",
     "output_type": "stream",
     "text": [
      "Enter the binsize: 50\n"
     ]
    }
   ],
   "source": [
    "binsize = int(input(\"Enter the binsize: \"))"
   ]
  },
  {
   "cell_type": "code",
   "execution_count": 5,
   "id": "d631768d",
   "metadata": {},
   "outputs": [],
   "source": [
    "# Figure Plotting function\n",
    "def plotFig(x, y, title):\n",
    "    plt.rcParams.update({'font.size': 22})\n",
    "    plt.figure()\n",
    "    #plt.figure(figsize=(20,10))\n",
    "    plt.xlabel(\"TIME\")\n",
    "    plt.ylabel(\"RATE\")\n",
    "    plt.plot(x, y)\n",
    "    plt.title(title)\n",
    "    #plt.xticks(np.arange(0, max(x), 5000))\n",
    "    plt.grid()\n",
    "    ax = plt.gca()\n",
    "    for spine in ['top', 'right']:\n",
    "        ax.spines[spine].set_visible(False)\n",
    "    ax.spines['left'].set_position(('data', 0))"
   ]
  },
  {
   "cell_type": "code",
   "execution_count": 22,
   "id": "52792e6d",
   "metadata": {},
   "outputs": [],
   "source": [
    "# Binned Statistics function\n",
    "\n",
    "def binned_stat(x_data, y_data, binsize):\n",
    "    mod_bin_centers = []\n",
    "    bins = math.floor(len(x_data)/int(binsize))\n",
    "    bin_means, bin_edges, binnumber = stats.binned_statistic(x_data, y_data, statistic=\"mean\", bins=bins)\n",
    "    bin_width = (bin_edges[1] - bin_edges[0])\n",
    "    bin_centers = bin_edges[1:] - bin_width/2\n",
    "    for i in range(len(bin_centers)):\n",
    "        mod_bin_centers.append(bin_centers[i]-bin_centers[0])\n",
    "    return (mod_bin_centers,bin_means)"
   ]
  },
  {
   "cell_type": "code",
   "execution_count": null,
   "id": "d2afa9bc",
   "metadata": {},
   "outputs": [],
   "source": [
    "for i in range(1):\n",
    "    file = fits.open(files[i])\n",
    "    file_data = file[1].data\n",
    "    file_length = file_data.shape[0]\n",
    "    \n",
    "    title = re.split('[/_.]', files[i])[16]\n",
    "    \n",
    "    # discard variable captures the empty data files\n",
    "    discard = file_data.shape\n",
    "    if discard[0]==1 or discard[0]==10:\n",
    "        continue\n",
    "        \n",
    "    x, y = binned_stat(file_data[\"TIME\"], file_data[\"RATE\"], binsize)     \n"
   ]
  },
  {
   "cell_type": "code",
   "execution_count": null,
   "id": "06c706ac",
   "metadata": {},
   "outputs": [],
   "source": []
  },
  {
   "cell_type": "code",
   "execution_count": null,
   "id": "6862b22a",
   "metadata": {},
   "outputs": [],
   "source": []
  }
 ],
 "metadata": {
  "kernelspec": {
   "display_name": "Python 3 (ipykernel)",
   "language": "python",
   "name": "python3"
  },
  "language_info": {
   "codemirror_mode": {
    "name": "ipython",
    "version": 3
   },
   "file_extension": ".py",
   "mimetype": "text/x-python",
   "name": "python",
   "nbconvert_exporter": "python",
   "pygments_lexer": "ipython3",
   "version": "3.9.12"
  }
 },
 "nbformat": 4,
 "nbformat_minor": 5
}
